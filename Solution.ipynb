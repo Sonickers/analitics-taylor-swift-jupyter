{
 "cells": [
  {
   "cell_type": "code",
   "execution_count": 1,
   "id": "028b5829",
   "metadata": {},
   "outputs": [],
   "source": [
    "import pandas as pd\n",
    "import string\n",
    "import seaborn as sns\n",
    "import matplotlib.pyplot as plt\n",
    "import collections\n",
    "from nltk.tokenize import word_tokenize\n",
    "from nltk.sentiment import SentimentIntensityAnalyzer"
   ]
  },
  {
   "cell_type": "code",
   "execution_count": 2,
   "id": "409c4eb3",
   "metadata": {},
   "outputs": [],
   "source": [
    "lyrics = pd.read_csv(\"taylor_swift_lyrics_2006-2020_all.csv\")"
   ]
  },
  {
   "cell_type": "code",
   "execution_count": 3,
   "id": "9e8deb41",
   "metadata": {},
   "outputs": [
    {
     "data": {
      "text/html": [
       "<div>\n",
       "<style scoped>\n",
       "    .dataframe tbody tr th:only-of-type {\n",
       "        vertical-align: middle;\n",
       "    }\n",
       "\n",
       "    .dataframe tbody tr th {\n",
       "        vertical-align: top;\n",
       "    }\n",
       "\n",
       "    .dataframe thead th {\n",
       "        text-align: right;\n",
       "    }\n",
       "</style>\n",
       "<table border=\"1\" class=\"dataframe\">\n",
       "  <thead>\n",
       "    <tr style=\"text-align: right;\">\n",
       "      <th></th>\n",
       "      <th>album_name</th>\n",
       "      <th>track_title</th>\n",
       "      <th>track_n</th>\n",
       "      <th>lyric</th>\n",
       "      <th>line</th>\n",
       "    </tr>\n",
       "  </thead>\n",
       "  <tbody>\n",
       "    <tr>\n",
       "      <th>0</th>\n",
       "      <td>Fearless (Taylor’s Version)</td>\n",
       "      <td>Fearless (Taylor’s Version)</td>\n",
       "      <td>1</td>\n",
       "      <td>There's something 'bout the way</td>\n",
       "      <td>1</td>\n",
       "    </tr>\n",
       "    <tr>\n",
       "      <th>1</th>\n",
       "      <td>Fearless (Taylor’s Version)</td>\n",
       "      <td>Fearless (Taylor’s Version)</td>\n",
       "      <td>1</td>\n",
       "      <td>The street looks when it's just rained</td>\n",
       "      <td>2</td>\n",
       "    </tr>\n",
       "    <tr>\n",
       "      <th>2</th>\n",
       "      <td>Fearless (Taylor’s Version)</td>\n",
       "      <td>Fearless (Taylor’s Version)</td>\n",
       "      <td>1</td>\n",
       "      <td>There's a glow off the pavement, you walk me t...</td>\n",
       "      <td>3</td>\n",
       "    </tr>\n",
       "    <tr>\n",
       "      <th>3</th>\n",
       "      <td>Fearless (Taylor’s Version)</td>\n",
       "      <td>Fearless (Taylor’s Version)</td>\n",
       "      <td>1</td>\n",
       "      <td>And you know I wanna ask you to dance right there</td>\n",
       "      <td>4</td>\n",
       "    </tr>\n",
       "    <tr>\n",
       "      <th>4</th>\n",
       "      <td>Fearless (Taylor’s Version)</td>\n",
       "      <td>Fearless (Taylor’s Version)</td>\n",
       "      <td>1</td>\n",
       "      <td>In the middle of the parking lot, yeah</td>\n",
       "      <td>5</td>\n",
       "    </tr>\n",
       "  </tbody>\n",
       "</table>\n",
       "</div>"
      ],
      "text/plain": [
       "                    album_name                  track_title  track_n  \\\n",
       "0  Fearless (Taylor’s Version)  Fearless (Taylor’s Version)        1   \n",
       "1  Fearless (Taylor’s Version)  Fearless (Taylor’s Version)        1   \n",
       "2  Fearless (Taylor’s Version)  Fearless (Taylor’s Version)        1   \n",
       "3  Fearless (Taylor’s Version)  Fearless (Taylor’s Version)        1   \n",
       "4  Fearless (Taylor’s Version)  Fearless (Taylor’s Version)        1   \n",
       "\n",
       "                                               lyric  line  \n",
       "0                    There's something 'bout the way     1  \n",
       "1             The street looks when it's just rained     2  \n",
       "2  There's a glow off the pavement, you walk me t...     3  \n",
       "3  And you know I wanna ask you to dance right there     4  \n",
       "4             In the middle of the parking lot, yeah     5  "
      ]
     },
     "execution_count": 3,
     "metadata": {},
     "output_type": "execute_result"
    }
   ],
   "source": [
    "lyrics.head()"
   ]
  },
  {
   "cell_type": "code",
   "execution_count": 4,
   "id": "a9dbda01",
   "metadata": {},
   "outputs": [
    {
     "name": "stdout",
     "output_type": "stream",
     "text": [
      "<class 'pandas.core.frame.DataFrame'>\n",
      "RangeIndex: 8358 entries, 0 to 8357\n",
      "Data columns (total 5 columns):\n",
      " #   Column       Non-Null Count  Dtype \n",
      "---  ------       --------------  ----- \n",
      " 0   album_name   8358 non-null   object\n",
      " 1   track_title  8358 non-null   object\n",
      " 2   track_n      8358 non-null   int64 \n",
      " 3   lyric        8358 non-null   object\n",
      " 4   line         8358 non-null   int64 \n",
      "dtypes: int64(2), object(3)\n",
      "memory usage: 326.6+ KB\n"
     ]
    }
   ],
   "source": [
    "lyrics.info()"
   ]
  },
  {
   "cell_type": "code",
   "execution_count": 5,
   "id": "a63a6814",
   "metadata": {},
   "outputs": [
    {
     "name": "stdout",
     "output_type": "stream",
     "text": [
      "['Fearless (Taylor’s Version)' 'Red (Deluxe Edition)' '1989 (Deluxe)'\n",
      " 'reputation' 'Taylor Swift' 'folklore (deluxe version)' 'Lover'\n",
      " 'evermore (deluxe version)' 'Speak Now (Deluxe)']\n"
     ]
    }
   ],
   "source": [
    "print(lyrics.album_name.unique())"
   ]
  },
  {
   "cell_type": "code",
   "execution_count": 6,
   "id": "1caeff32",
   "metadata": {},
   "outputs": [],
   "source": [
    "def album_release(row):  \n",
    "    if row['album_name'] == 'Taylor Swift':\n",
    "        return '2006'\n",
    "    elif row['album_name'] == 'Fearless (Taylor’s Version)':\n",
    "        return '2008'\n",
    "    elif row['album_name'] == 'Speak Now (Deluxe)':\n",
    "        return '2010'\n",
    "    elif row['album_name'] == 'Red (Deluxe Edition)':\n",
    "        return '2012'\n",
    "    elif row['album_name'] == '1989 (Deluxe)':\n",
    "        return '2014'\n",
    "    elif row['album_name'] == 'reputation':\n",
    "        return '2017'\n",
    "    elif row['album_name'] == 'Lover':\n",
    "        return '2019'\n",
    "    elif row['album_name'] == 'evermore (deluxe version)':\n",
    "        return '2020'\n",
    "    elif row['album_name'] == 'folklore (deluxe version)':\n",
    "        return '2021'\n",
    "    \n",
    "    return 'No Date'"
   ]
  },
  {
   "cell_type": "code",
   "execution_count": 7,
   "id": "ad060629",
   "metadata": {},
   "outputs": [],
   "source": [
    "lyrics['album_year'] = lyrics.apply(lambda row: album_release(row), axis=1)"
   ]
  },
  {
   "cell_type": "code",
   "execution_count": 8,
   "id": "c1eb3195",
   "metadata": {},
   "outputs": [],
   "source": [
    "lyrics['clean_lyric'] = lyrics['lyric'].str.lower()"
   ]
  },
  {
   "cell_type": "code",
   "execution_count": 9,
   "id": "c536aa88",
   "metadata": {},
   "outputs": [],
   "source": [
    "lyrics['clean_lyric']= lyrics['clean_lyric'].str.replace(r'[^\\w\\s]','', regex=True)"
   ]
  },
  {
   "cell_type": "code",
   "execution_count": 10,
   "id": "f1ed03d5",
   "metadata": {},
   "outputs": [],
   "source": [
    "stop = ['the', 'a', 'this', 'that', 'to', 'is', 'am', 'was', 'were', 'be', 'being', 'been']\n",
    "lyrics['clean_lyric'] = lyrics['clean_lyric'].apply(lambda x: ' '.join([word for word in x.split() if word not in (stop)]))"
   ]
  },
  {
   "cell_type": "code",
   "execution_count": 11,
   "id": "7619681d",
   "metadata": {},
   "outputs": [
    {
     "data": {
      "text/html": [
       "<div>\n",
       "<style scoped>\n",
       "    .dataframe tbody tr th:only-of-type {\n",
       "        vertical-align: middle;\n",
       "    }\n",
       "\n",
       "    .dataframe tbody tr th {\n",
       "        vertical-align: top;\n",
       "    }\n",
       "\n",
       "    .dataframe thead th {\n",
       "        text-align: right;\n",
       "    }\n",
       "</style>\n",
       "<table border=\"1\" class=\"dataframe\">\n",
       "  <thead>\n",
       "    <tr style=\"text-align: right;\">\n",
       "      <th></th>\n",
       "      <th>album_name</th>\n",
       "      <th>track_title</th>\n",
       "      <th>track_n</th>\n",
       "      <th>lyric</th>\n",
       "      <th>line</th>\n",
       "      <th>album_year</th>\n",
       "      <th>clean_lyric</th>\n",
       "    </tr>\n",
       "  </thead>\n",
       "  <tbody>\n",
       "    <tr>\n",
       "      <th>0</th>\n",
       "      <td>Fearless (Taylor’s Version)</td>\n",
       "      <td>Fearless (Taylor’s Version)</td>\n",
       "      <td>1</td>\n",
       "      <td>There's something 'bout the way</td>\n",
       "      <td>1</td>\n",
       "      <td>2008</td>\n",
       "      <td>theres something bout way</td>\n",
       "    </tr>\n",
       "    <tr>\n",
       "      <th>1</th>\n",
       "      <td>Fearless (Taylor’s Version)</td>\n",
       "      <td>Fearless (Taylor’s Version)</td>\n",
       "      <td>1</td>\n",
       "      <td>The street looks when it's just rained</td>\n",
       "      <td>2</td>\n",
       "      <td>2008</td>\n",
       "      <td>street looks when its just rained</td>\n",
       "    </tr>\n",
       "    <tr>\n",
       "      <th>2</th>\n",
       "      <td>Fearless (Taylor’s Version)</td>\n",
       "      <td>Fearless (Taylor’s Version)</td>\n",
       "      <td>1</td>\n",
       "      <td>There's a glow off the pavement, you walk me t...</td>\n",
       "      <td>3</td>\n",
       "      <td>2008</td>\n",
       "      <td>theres glow off pavement you walk me car</td>\n",
       "    </tr>\n",
       "    <tr>\n",
       "      <th>3</th>\n",
       "      <td>Fearless (Taylor’s Version)</td>\n",
       "      <td>Fearless (Taylor’s Version)</td>\n",
       "      <td>1</td>\n",
       "      <td>And you know I wanna ask you to dance right there</td>\n",
       "      <td>4</td>\n",
       "      <td>2008</td>\n",
       "      <td>and you know i wanna ask you dance right there</td>\n",
       "    </tr>\n",
       "    <tr>\n",
       "      <th>4</th>\n",
       "      <td>Fearless (Taylor’s Version)</td>\n",
       "      <td>Fearless (Taylor’s Version)</td>\n",
       "      <td>1</td>\n",
       "      <td>In the middle of the parking lot, yeah</td>\n",
       "      <td>5</td>\n",
       "      <td>2008</td>\n",
       "      <td>in middle of parking lot yeah</td>\n",
       "    </tr>\n",
       "  </tbody>\n",
       "</table>\n",
       "</div>"
      ],
      "text/plain": [
       "                    album_name                  track_title  track_n  \\\n",
       "0  Fearless (Taylor’s Version)  Fearless (Taylor’s Version)        1   \n",
       "1  Fearless (Taylor’s Version)  Fearless (Taylor’s Version)        1   \n",
       "2  Fearless (Taylor’s Version)  Fearless (Taylor’s Version)        1   \n",
       "3  Fearless (Taylor’s Version)  Fearless (Taylor’s Version)        1   \n",
       "4  Fearless (Taylor’s Version)  Fearless (Taylor’s Version)        1   \n",
       "\n",
       "                                               lyric  line album_year  \\\n",
       "0                    There's something 'bout the way     1       2008   \n",
       "1             The street looks when it's just rained     2       2008   \n",
       "2  There's a glow off the pavement, you walk me t...     3       2008   \n",
       "3  And you know I wanna ask you to dance right there     4       2008   \n",
       "4             In the middle of the parking lot, yeah     5       2008   \n",
       "\n",
       "                                      clean_lyric  \n",
       "0                       theres something bout way  \n",
       "1               street looks when its just rained  \n",
       "2        theres glow off pavement you walk me car  \n",
       "3  and you know i wanna ask you dance right there  \n",
       "4                   in middle of parking lot yeah  "
      ]
     },
     "execution_count": 11,
     "metadata": {},
     "output_type": "execute_result"
    }
   ],
   "source": [
    "lyrics.head()"
   ]
  },
  {
   "cell_type": "code",
   "execution_count": 12,
   "id": "62acf766",
   "metadata": {},
   "outputs": [],
   "source": [
    "lyrics['include_midnight'] = lyrics['clean_lyric'].str.contains('midnight')"
   ]
  },
  {
   "cell_type": "code",
   "execution_count": 13,
   "id": "a0aaef62",
   "metadata": {},
   "outputs": [
    {
     "data": {
      "text/plain": [
       "9"
      ]
     },
     "execution_count": 13,
     "metadata": {},
     "output_type": "execute_result"
    }
   ],
   "source": [
    "lyrics['include_midnight'].sum()"
   ]
  },
  {
   "cell_type": "code",
   "execution_count": 14,
   "id": "931fee19",
   "metadata": {},
   "outputs": [],
   "source": [
    "night = ['night','midnight', 'dawn', 'dusk', 'evening', 'late', 'dark', '1am', '2am', '3am', '4am']\n",
    "day = ['day', 'morning', 'light', 'sun', 'dawn', 'noon', 'golden', 'bright']\n",
    "time = ['today', 'tomorrow', 'yesterday']\n",
    "\n",
    "night_regex = '|'.join(night)\n",
    "day_regex = '|'.join(day)\n",
    "time_regex = '|'.join(time)"
   ]
  },
  {
   "cell_type": "code",
   "execution_count": 15,
   "id": "b1bc33f7",
   "metadata": {},
   "outputs": [],
   "source": [
    "lyrics['night'] = lyrics['clean_lyric'].str.contains(night_regex)\n",
    "lyrics['day'] = lyrics['clean_lyric'].str.contains(day_regex)\n",
    "lyrics['time'] = lyrics['clean_lyric'].str.contains(time_regex)"
   ]
  },
  {
   "cell_type": "code",
   "execution_count": null,
   "id": "e655fc5d",
   "metadata": {},
   "outputs": [],
   "source": [
    "night_count = sum(lyrics['night'])\n",
    "day_count = sum(lyrics['day'])\n",
    "time_count = sum(lyrics['time'])\n",
    "\n",
    "print(\"night words: \", night_count)\n",
    "print(\"day words: \", day_count)\n",
    "print(\"time words: \", time_count)\n",
    "\n",
    "lyrics.head()"
   ]
  }
 ],
 "metadata": {
  "kernelspec": {
   "display_name": "Python 3 (ipykernel)",
   "language": "python",
   "name": "python3"
  },
  "language_info": {
   "codemirror_mode": {
    "name": "ipython",
    "version": 3
   },
   "file_extension": ".py",
   "mimetype": "text/x-python",
   "name": "python",
   "nbconvert_exporter": "python",
   "pygments_lexer": "ipython3",
   "version": "3.9.6"
  }
 },
 "nbformat": 4,
 "nbformat_minor": 5
}
